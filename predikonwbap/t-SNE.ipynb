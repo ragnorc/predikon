{
 "cells": [
  {
   "cell_type": "markdown",
   "metadata": {},
   "source": [
    "## Votes"
   ]
  },
  {
   "cell_type": "code",
   "execution_count": 1,
   "metadata": {
    "scrolled": false
   },
   "outputs": [],
   "source": [
    "import sqlite3\n",
    "import os\n",
    "import numpy as np\n",
    "from numpy import array, mean\n",
    "from numpy import diag, savetxt\n",
    "from numpy import zeros, append\n",
    "from scipy.linalg import svd\n",
    "import matplotlib.pyplot as plt\n",
    "from sklearn.manifold import TSNE\n",
    "from sklearn import preprocessing\n",
    "import pandas as pd"
   ]
  },
  {
   "cell_type": "markdown",
   "metadata": {},
   "source": [
    "## Convert DB query result to matrix"
   ]
  },
  {
   "cell_type": "code",
   "execution_count": 16,
   "metadata": {
    "scrolled": true
   },
   "outputs": [
    {
     "name": "stdout",
     "output_type": "stream",
     "text": [
      "0.635\n",
      "[261]\n"
     ]
    }
   ],
   "source": [
    "db = sqlite3.connect('predikon.db')\n",
    "def query_db(query, args=(), one=False):\n",
    "    cur = db.execute(query, args)\n",
    "    rv = cur.fetchall()\n",
    "    return (rv[0] if rv else None) if one else rv\n",
    "\n",
    "\n",
    "res = query_db('SELECT municipality.id as mcp_id, vote.id as vote_id, ROUND(result.num_yes * 100.0 / result.num_total, 1)/100 AS percentage, municipality.ogd_id  FROM result, municipality, vote where result.municipality_id == municipality.id AND vote.id == result.vote_id ')\n",
    "rows = np.zeros(len(res)).astype(np.int64)\n",
    "cols = np.zeros(len(res)).astype(np.int64)\n",
    "vals = np.zeros(len(res))\n",
    "ids = np.zeros((2222,1)).astype(np.int64)\n",
    "voteMatrix = np.zeros((2222,328))\n",
    "for vote in res:\n",
    "    voteMatrix[vote[0]-1,vote[1]-1] = vote[2]\n",
    "    ids[vote[0]-1] = vote[3]\n",
    "print((voteMatrix[0][0]))\n",
    "print(ids[2221])\n"
   ]
  },
  {
   "cell_type": "markdown",
   "metadata": {},
   "source": [
    "## t-SNE\n",
    "\n"
   ]
  },
  {
   "cell_type": "code",
   "execution_count": 17,
   "metadata": {},
   "outputs": [
    {
     "name": "stdout",
     "output_type": "stream",
     "text": [
      "[t-SNE] Computing 91 nearest neighbors...\n",
      "[t-SNE] Indexed 2222 samples in 0.033s...\n",
      "[t-SNE] Computed neighbors for 2222 samples in 5.283s...\n",
      "[t-SNE] Computed conditional probabilities for sample 1000 / 2222\n",
      "[t-SNE] Computed conditional probabilities for sample 2000 / 2222\n",
      "[t-SNE] Computed conditional probabilities for sample 2222 / 2222\n",
      "[t-SNE] Mean sigma: 0.466629\n",
      "[t-SNE] KL divergence after 250 iterations with early exaggeration: 67.096542\n",
      "[t-SNE] KL divergence after 1000 iterations: 0.905111\n"
     ]
    }
   ],
   "source": [
    "tsne = TSNE(n_components=2, verbose=1)\n",
    "tsne_results = tsne.fit_transform(voteMatrix)"
   ]
  },
  {
   "cell_type": "code",
   "execution_count": 14,
   "metadata": {},
   "outputs": [
    {
     "name": "stdout",
     "output_type": "stream",
     "text": [
      "(2222, 2)\n"
     ]
    },
    {
     "data": {
      "text/plain": [
       "(-51.02538150949177, 66.22952121896444, -75.35426584391888, 70.18310800700482)"
      ]
     },
     "execution_count": 14,
     "metadata": {},
     "output_type": "execute_result"
    },
    {
     "data": {
      "image/png": "[encoded data removed]",
      "text/plain": [
       "<Figure size 432x288 with 1 Axes>"
      ]
     },
     "metadata": {
      "needs_background": "light"
     },
     "output_type": "display_data"
    }
   ],
   "source": [
    "def draw_vector(v0, v1, ax=None):\n",
    "    ax = ax or plt.gca()\n",
    "    arrowprops=dict(arrowstyle='->',\n",
    "                    linewidth=2,\n",
    "                    shrinkA=0, shrinkB=0)\n",
    "# plot data\n",
    "plt.scatter(tsne_results[:, 0], tsne_results[:, 1], s=0.5, alpha=0.8)\n",
    "\n",
    "plt.axis('equal')"
   ]
  },
  {
   "cell_type": "markdown",
   "metadata": {},
   "source": [
    "## Save"
   ]
  },
  {
   "cell_type": "code",
   "execution_count": 15,
   "metadata": {},
   "outputs": [],
   "source": [
    "\n",
    "savetxt(\"tsneMatrix.csv\",np.append(tsne_results,ids, axis=1),fmt='%.10f', delimiter=\",\")\n",
    "savetxt(\"ids.csv\",ids,fmt='%.1d', delimiter=\",\")"
   ]
  },
  {
   "cell_type": "markdown",
   "metadata": {},
   "source": [
    "## Add fake partial data\n",
    "\n",
    "Useful for testing prediction."
   ]
  },
  {
   "cell_type": "code",
   "execution_count": 21,
   "metadata": {},
   "outputs": [],
   "source": [
    "df = pd.read_csv('voteMatrix.csv', delimiter='\\t')\n",
    "# this line creates a new column, which is a Pandas series.\n",
    "# we then add the series to the dataframe, which holds our parsed CSV file\n",
    "df['NewColumn'] = pd.Series(ids[:,0])\n",
    "# save the dataframe to CSV\n",
    "df.to_csv('new2.csv', sep='\\t')"
   ]
  },
  {
   "cell_type": "markdown",
   "metadata": {},
   "source": [
    "## Add partial data for \"Initiative mitage\""
   ]
  },
  {
   "cell_type": "code",
   "execution_count": null,
   "metadata": {},
   "outputs": [],
   "source": [
    "for file in list(reversed(glob.glob('../json/20190210*.json'))):\n",
    "    with open(file) as f:\n",
    "        data = json.load(f)\n",
    "        results = get_results(data)\n",
    "        save_results(results)\n",
    "    print(f'Inserted {file}')"
   ]
  }
 ],
 "metadata": {
  "kernelspec": {
   "display_name": "Python [conda env:predikon] *",
   "language": "python",
   "name": "conda-env-predikon-py"
  },
  "language_info": {
   "codemirror_mode": {
    "name": "ipython",
    "version": 3
   },
   "file_extension": ".py",
   "mimetype": "text/x-python",
   "name": "python",
   "nbconvert_exporter": "python",
   "pygments_lexer": "ipython3",
   "version": "3.7.0"
  }
 },
 "nbformat": 4,
 "nbformat_minor": 2
}
