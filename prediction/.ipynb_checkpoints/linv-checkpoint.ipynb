{
 "cells": [
  {
   "cell_type": "markdown",
   "metadata": {},
   "source": [
    "## Imports"
   ]
  },
  {
   "cell_type": "code",
   "execution_count": 17,
   "metadata": {
    "scrolled": false
   },
   "outputs": [],
   "source": [
    "import numpy as np\n",
    "import scipy.io\n",
    "import matplotlib.pyplot as plt\n",
    "from sklearn.linear_model import LinearRegression"
   ]
  },
  {
   "cell_type": "markdown",
   "metadata": {},
   "source": [
    "## Parameters"
   ]
  },
  {
   "cell_type": "code",
   "execution_count": 11,
   "metadata": {},
   "outputs": [],
   "source": [
    "num_test_votes = 50\n",
    "n_test_runs = 10\n",
    "prop_valid = 0.1\n",
    "max_iters = 100\n"
   ]
  },
  {
   "cell_type": "markdown",
   "metadata": {},
   "source": [
    "## Load data"
   ]
  },
  {
   "cell_type": "code",
   "execution_count": 46,
   "metadata": {
    "scrolled": true
   },
   "outputs": [],
   "source": [
    "votes_features = scipy.io.loadmat('data/votes-features.mat')\n",
    "W = votes_features['X_vote']\n",
    "votes = scipy.io.loadmat('data/votes-data.mat')\n",
    "Y = votes['Y']\n",
    "national_results = scipy.io.loadmat('data/national-results.mat')\n",
    "y_bar = national_results['t']"
   ]
  },
  {
   "cell_type": "markdown",
   "metadata": {},
   "source": [
    "## Preprocess"
   ]
  },
  {
   "cell_type": "code",
   "execution_count": 67,
   "metadata": {},
   "outputs": [
    {
     "name": "stdout",
     "output_type": "stream",
     "text": [
      "(50, 13)\n",
      "[0.02287867]\n"
     ]
    }
   ],
   "source": [
    "D = len(Y)\n",
    "N = len(Y[0])\n",
    "\n",
    "Y -= (Y.mean(axis = 0))\n",
    "Y_train = Y[:, 0:(N - num_test_votes + 1)];\n",
    "X_train = W[0:(N - num_test_votes + 1), :];\n",
    "Y_test = Y[:,(N - num_test_votes):];\n",
    "X_test = W[(N - num_test_votes):, :];\n",
    "#plt.scatter(Y_train[0], X_train[:,0])\n",
    "model = LinearRegression().fit(X_train, Y_train[0]) #Model for first municipality\n",
    "print(model.predict([W[276,:]]))\n"
   ]
  },
  {
   "cell_type": "code",
   "execution_count": 9,
   "metadata": {},
   "outputs": [
    {
     "ename": "AttributeError",
     "evalue": "'float' object has no attribute 'D'",
     "output_type": "error",
     "traceback": [
      "\u001b[0;31m---------------------------------------------------------------------------\u001b[0m",
      "\u001b[0;31mAttributeError\u001b[0m                            Traceback (most recent call last)",
      "\u001b[0;32m<ipython-input-9-f5cb8204b9c1>\u001b[0m in \u001b[0;36m<module>\u001b[0;34m()\u001b[0m\n\u001b[0;32m----> 1\u001b[0;31m \u001b[0;32mfor\u001b[0m \u001b[0md\u001b[0m \u001b[0;32min\u001b[0m \u001b[0;34m[\u001b[0m\u001b[0;36m0.\u001b[0m\u001b[0;34m.\u001b[0m\u001b[0mD\u001b[0m\u001b[0;34m-\u001b[0m\u001b[0;36m1\u001b[0m\u001b[0;34m]\u001b[0m\u001b[0;34m:\u001b[0m\u001b[0;34m\u001b[0m\u001b[0;34m\u001b[0m\u001b[0m\n\u001b[0m\u001b[1;32m      2\u001b[0m     \u001b[0mprint\u001b[0m\u001b[0;34m(\u001b[0m\u001b[0;34m\"hhi\"\u001b[0m\u001b[0;34m)\u001b[0m\u001b[0;34m\u001b[0m\u001b[0;34m\u001b[0m\u001b[0m\n",
      "\u001b[0;31mAttributeError\u001b[0m: 'float' object has no attribute 'D'"
     ]
    }
   ],
   "source": [
    "for d in [0..D-1]:\n",
    "    print(\"hhi\")"
   ]
  },
  {
   "cell_type": "markdown",
   "metadata": {},
   "source": [
    "## Save"
   ]
  },
  {
   "cell_type": "code",
   "execution_count": 15,
   "metadata": {},
   "outputs": [],
   "source": [
    "\n",
    "savetxt(\"tsneMatrix.csv\",np.append(tsne_results,ids, axis=1),fmt='%.10f', delimiter=\",\")\n",
    "savetxt(\"ids.csv\",ids,fmt='%.1d', delimiter=\",\")"
   ]
  },
  {
   "cell_type": "markdown",
   "metadata": {},
   "source": [
    "## Add fake partial data\n",
    "\n",
    "Useful for testing prediction."
   ]
  },
  {
   "cell_type": "code",
   "execution_count": 21,
   "metadata": {},
   "outputs": [],
   "source": [
    "df = pd.read_csv('voteMatrix.csv', delimiter='\\t')\n",
    "# this line creates a new column, which is a Pandas series.\n",
    "# we then add the series to the dataframe, which holds our parsed CSV file\n",
    "df['NewColumn'] = pd.Series(ids[:,0])\n",
    "# save the dataframe to CSV\n",
    "df.to_csv('new2.csv', sep='\\t')"
   ]
  },
  {
   "cell_type": "markdown",
   "metadata": {},
   "source": [
    "## Add partial data for \"Initiative mitage\""
   ]
  },
  {
   "cell_type": "code",
   "execution_count": null,
   "metadata": {},
   "outputs": [],
   "source": [
    "for file in list(reversed(glob.glob('../json/20190210*.json'))):\n",
    "    with open(file) as f:\n",
    "        data = json.load(f)\n",
    "        results = get_results(data)\n",
    "        save_results(results)\n",
    "    print(f'Inserted {file}')"
   ]
  }
 ],
 "metadata": {
  "kernelspec": {
   "display_name": "Python 3",
   "language": "python",
   "name": "python3"
  },
  "language_info": {
   "codemirror_mode": {
    "name": "ipython",
    "version": 3
   },
   "file_extension": ".py",
   "mimetype": "text/x-python",
   "name": "python",
   "nbconvert_exporter": "python",
   "pygments_lexer": "ipython3",
   "version": "3.6.7"
  }
 },
 "nbformat": 4,
 "nbformat_minor": 2
}
