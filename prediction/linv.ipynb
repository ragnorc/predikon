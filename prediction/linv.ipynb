{
 "cells": [
  {
   "cell_type": "markdown",
   "metadata": {},
   "source": [
    "## Imports"
   ]
  },
  {
   "cell_type": "code",
   "execution_count": 1,
   "metadata": {
    "scrolled": false
   },
   "outputs": [],
   "source": [
    "import numpy as np\n",
    "import scipy.io\n",
    "import matplotlib.pyplot as plt\n",
    "from sklearn.linear_model import LinearRegression"
   ]
  },
  {
   "cell_type": "markdown",
   "metadata": {},
   "source": [
    "## Parameters"
   ]
  },
  {
   "cell_type": "code",
   "execution_count": 2,
   "metadata": {},
   "outputs": [],
   "source": [
    "num_test_votes = 50\n",
    "n_test_runs = 10\n",
    "prop_valid = 0.1\n",
    "max_iters = 100\n"
   ]
  },
  {
   "cell_type": "markdown",
   "metadata": {},
   "source": [
    "## Load data"
   ]
  },
  {
   "cell_type": "code",
   "execution_count": 3,
   "metadata": {
    "scrolled": true
   },
   "outputs": [],
   "source": [
    "votes_features = scipy.io.loadmat('data/votes-features.mat')\n",
    "W = votes_features['X_vote']\n",
    "votes = scipy.io.loadmat('data/votes-data.mat')\n",
    "Y = votes['Y']\n",
    "national_results = scipy.io.loadmat('data/national-results.mat')\n",
    "y_bar = national_results['t']"
   ]
  },
  {
   "cell_type": "markdown",
   "metadata": {},
   "source": [
    "## Build model"
   ]
  },
  {
   "cell_type": "code",
   "execution_count": 4,
   "metadata": {},
   "outputs": [
    {
     "name": "stdout",
     "output_type": "stream",
     "text": [
      "[0.02287867]\n"
     ]
    }
   ],
   "source": [
    "D = len(Y)\n",
    "N = len(Y[0])\n",
    "\n",
    "Y -= (Y.mean(axis = 0))\n",
    "Y_train = Y[:, 0:(N - num_test_votes + 1)];\n",
    "X_train = W[0:(N - num_test_votes + 1), :];\n",
    "Y_test = Y[:,(N - num_test_votes):];\n",
    "X_test = W[(N - num_test_votes):, :];\n",
    "#plt.scatter(Y_train[0], X_train[:,0])\n",
    "model = LinearRegression().fit(X_train, Y_train[0]) #Model for first municipality\n",
    "print(model.predict([W[276,:]]))\n"
   ]
  },
  {
   "cell_type": "code",
   "execution_count": null,
   "metadata": {},
   "outputs": [],
   "source": []
  }
 ],
 "metadata": {
  "kernelspec": {
   "display_name": "Python 3",
   "language": "python",
   "name": "python3"
  },
  "language_info": {
   "codemirror_mode": {
    "name": "ipython",
    "version": 3
   },
   "file_extension": ".py",
   "mimetype": "text/x-python",
   "name": "python",
   "nbconvert_exporter": "python",
   "pygments_lexer": "ipython3",
   "version": "3.6.7"
  }
 },
 "nbformat": 4,
 "nbformat_minor": 2
}
